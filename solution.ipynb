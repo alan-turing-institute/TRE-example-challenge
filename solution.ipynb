{
 "cells": [
  {
   "cell_type": "markdown",
   "id": "ea97673e",
   "metadata": {},
   "source": [
    "# Solution\n",
    "\n",
    "This notebook demonstrates one way to solve the challenge using Python."
   ]
  },
  {
   "cell_type": "markdown",
   "id": "e38bd74a",
   "metadata": {},
   "source": [
    "## Packages\n",
    "\n",
    "Here, we are going to use pandas to inspect the data, clean the data and calculate our result.\n",
    "\n",
    "First we need to import Pandas."
   ]
  },
  {
   "cell_type": "code",
   "execution_count": null,
   "id": "5116d28d",
   "metadata": {},
   "outputs": [],
   "source": [
    "import pandas as pd\n",
    "import numpy as np"
   ]
  },
  {
   "cell_type": "markdown",
   "id": "38ab02d1",
   "metadata": {},
   "source": [
    "## Inspecting the data\n",
    "\n",
    "We will read the data from the csv file and store it in a Pandas dataframe."
   ]
  },
  {
   "cell_type": "code",
   "execution_count": null,
   "id": "ab4e273e",
   "metadata": {},
   "outputs": [],
   "source": [
    "df = pd.read_csv(\"./data.csv\")"
   ]
  },
  {
   "cell_type": "markdown",
   "id": "baa20e52",
   "metadata": {},
   "source": [
    "We want to calculate the **mean height**.\n",
    "\n",
    "Let's look at the columns to find which contains the height data."
   ]
  },
  {
   "cell_type": "code",
   "execution_count": null,
   "id": "cf7f3a3a",
   "metadata": {},
   "outputs": [],
   "source": [
    "df.columns"
   ]
  },
  {
   "cell_type": "markdown",
   "id": "1db33f0e",
   "metadata": {},
   "source": [
    "We could go ahead and calculate the mean immediately,\n",
    "\n",
    "```python\n",
    "df[\"height\"].mean()\n",
    "```\n",
    "\n",
    "However, we should look at the data first to check it makes sense.\n",
    "Panda's `describe` method can help us."
   ]
  },
  {
   "cell_type": "code",
   "execution_count": null,
   "id": "a0837bd8",
   "metadata": {},
   "outputs": [],
   "source": [
    "height = df[\"height\"]\n",
    "height.describe()"
   ]
  },
  {
   "cell_type": "markdown",
   "id": "c155cf22",
   "metadata": {},
   "source": [
    "The mean looks reasonable.\n",
    "168.8 would make sense if the height values are in cm.\n",
    "\n",
    "But look at the minimum and maximum values.\n",
    "Those don't seem reasonable at all.\n",
    "\n",
    "Let's look closer at the smallest values."
   ]
  },
  {
   "cell_type": "code",
   "execution_count": null,
   "id": "3c49aa76",
   "metadata": {},
   "outputs": [],
   "source": [
    "height_sorted = height.sort_values()\n",
    "height_sorted.head(10)"
   ]
  },
  {
   "cell_type": "markdown",
   "id": "5bd210d5",
   "metadata": {},
   "source": [
    "And the largest values."
   ]
  },
  {
   "cell_type": "code",
   "execution_count": null,
   "id": "cd67a750",
   "metadata": {},
   "outputs": [],
   "source": [
    "height_sorted.tail(10)"
   ]
  },
  {
   "cell_type": "markdown",
   "id": "eeacf345",
   "metadata": {},
   "source": [
    "## Cleaning the data\n",
    "\n",
    "It would be more reasonable to remove these outliers.\n",
    "\n",
    "Here, we will use information about how those outliers were generated to remove them.\n",
    "\n",
    "The anomalously large heights are always greater than or equal to 1000.\n",
    "The anomalously smaller heights are always less than 10."
   ]
  },
  {
   "cell_type": "code",
   "execution_count": null,
   "id": "eeee5531",
   "metadata": {},
   "outputs": [],
   "source": [
    "height_filtered = height[(height <= 1000) & (height > 10)]"
   ]
  },
  {
   "cell_type": "markdown",
   "id": "8ce79a19",
   "metadata": {},
   "source": [
    "## Calculating the mean\n",
    "\n",
    "Now we can calculate the mean of our cleaned height data."
   ]
  },
  {
   "cell_type": "code",
   "execution_count": null,
   "id": "2a3f20c5",
   "metadata": {},
   "outputs": [],
   "source": [
    "np.around(height_filtered.mean(), 1)"
   ]
  }
 ],
 "metadata": {
  "kernelspec": {
   "display_name": "Python 3 (ipykernel)",
   "language": "python",
   "name": "python3"
  },
  "language_info": {
   "codemirror_mode": {
    "name": "ipython",
    "version": 3
   },
   "file_extension": ".py",
   "mimetype": "text/x-python",
   "name": "python",
   "nbconvert_exporter": "python",
   "pygments_lexer": "ipython3",
   "version": "3.11.2"
  }
 },
 "nbformat": 4,
 "nbformat_minor": 5
}
